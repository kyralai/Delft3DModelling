{
 "cells": [
  {
   "cell_type": "code",
   "execution_count": null,
   "id": "377c8ebf-bf12-4169-888f-fd35068ea280",
   "metadata": {},
   "outputs": [],
   "source": [
    "import math\n",
    "\n",
    "# Constants\n",
    "g = 9.81  # gravitational acceleration in m/s^2\n",
    "alpha_deg = 18.4  # slope angle in degrees\n",
    "gamma_b = 1  # berm factor\n",
    "gamma_f = 1  # roughness factor\n",
    "gamma_beta = 1  # wave obliquity factor\n",
    "\n",
    "# Convert alpha to radians for calculation\n",
    "alpha_rad = math.radians(alpha_deg)\n",
    "\n",
    "# Function to calculate deep-water wavelength, surf similarity number, and wave runup\n",
    "def calculate_wave_runup(H_m0, T_m10):\n",
    "    # Step 1: Calculate the deep-water wavelength L_m10\n",
    "    L_m10 = (g * T_m10**2) / (2 * math.pi)\n",
    "    \n",
    "    # Step 2: Calculate the surf similarity (Iribarren) number ζ_m10\n",
    "    zeta_m10 = math.tan(alpha_rad) / math.sqrt(H_m0 / L_m10)\n",
    "    \n",
    "    # Step 3: Calculate the 2% exceedance wave runup R_u2%\n",
    "    R_u2_percent = 1.75 * gamma_b * gamma_f * gamma_beta * H_m0 * zeta_m10\n",
    "    \n",
    "    return R_u2_percent\n",
    "\n",
    "# Example values for significant wave height H_m0 (m) and wave period T_m10 (s)\n",
    "# Replace these with the specific values for each location and scenario\n",
    "locations = {\n",
    "    1: {\"H_m0\": 1.14, \"T_m10\": 6.0},  # example values for location 1\n",
    "    2: {\"H_m0\": 1.55, \"T_m10\": 6.5},\n",
    "    3: {\"H_m0\": 2.02, \"T_m10\": 7.0},\n",
    "    4: {\"H_m0\": 2.14, \"T_m10\": 7.2},\n",
    "    5: {\"H_m0\": 2.74, \"T_m10\": 7.5},\n",
    "    6: {\"H_m0\": 2.81, \"T_m10\": 7.8}\n",
    "}\n",
    "\n",
    "# Calculate and display wave runup for each location\n",
    "for loc, params in locations.items():\n",
    "    H_m0 = params[\"H_m0\"]\n",
    "    T_m10 = params[\"T_m10\"]\n",
    "    R_u2_percent = calculate_wave_runup(H_m0, T_m10)\n",
    "    print(f\"Location {loc}: R_u2% = {R_u2_percent:.2f} m\")\n"
   ]
  }
 ],
 "metadata": {
  "kernelspec": {
   "display_name": "Python 3 (ipykernel)",
   "language": "python",
   "name": "python3"
  },
  "language_info": {
   "codemirror_mode": {
    "name": "ipython",
    "version": 3
   },
   "file_extension": ".py",
   "mimetype": "text/x-python",
   "name": "python",
   "nbconvert_exporter": "python",
   "pygments_lexer": "ipython3",
   "version": "3.11.7"
  }
 },
 "nbformat": 4,
 "nbformat_minor": 5
}
