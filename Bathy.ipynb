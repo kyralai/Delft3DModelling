{
 "cells": [
  {
   "cell_type": "code",
   "execution_count": 9,
   "id": "a4129109",
   "metadata": {},
   "outputs": [
    {
     "data": {
      "text/plain": [
       "<osgeo.gdal.Dataset; proxy of <Swig Object of type 'GDALDatasetShadow *' at 0x00000194E343ADC0> >"
      ]
     },
     "execution_count": 9,
     "metadata": {},
     "output_type": "execute_result"
    }
   ],
   "source": [
    "from osgeo import gdal\n",
    "\n",
    "# Define the input and output file paths\n",
    "input_file = r'C:\\Users\\USKD712889\\OneDrive - WSP O365\\Documents\\Projects\\Monroe County\\Duck Key\\Delft3D\\NAD832007ft\\nad832007ft\\Flow\\Bathy\\Bathy.tif'\n",
    "output_file = r'C:\\Users\\USKD712889\\OneDrive - WSP O365\\Documents\\Projects\\Monroe County\\Duck Key\\Delft3D\\NAD832007ft\\nad832007ft\\Flow\\Bathy\\Bathy.xyz'\n",
    "\n",
    "# Open the input GeoTIFF file\n",
    "dataset = gdal.Open(input_file)\n",
    "\n",
    "# Use GDAL's translate function to convert to XYZ format\n",
    "gdal.Translate(output_file, dataset, format='XYZ')"
   ]
  },
  {
   "cell_type": "code",
   "execution_count": null,
   "id": "2a59ca67",
   "metadata": {},
   "outputs": [],
   "source": []
  },
  {
   "cell_type": "code",
   "execution_count": 10,
   "id": "2018e4e4",
   "metadata": {},
   "outputs": [
    {
     "name": "stdout",
     "output_type": "stream",
     "text": [
      "Processing complete.\n"
     ]
    }
   ],
   "source": [
    "#removes all 0 z values\n",
    "input_file = r'C:\\Users\\USKD712889\\OneDrive - WSP O365\\Documents\\Projects\\Monroe County\\Duck Key\\Delft3D\\NAD832007ft\\nad832007ft\\Flow\\Bathy\\Bathy.xyz'\n",
    "output_file = r'C:\\Users\\USKD712889\\OneDrive - WSP O365\\Documents\\Projects\\Monroe County\\Duck Key\\Delft3D\\NAD832007ft\\nad832007ft\\Flow\\Bathy\\nozeros_Bathy.xyz'\n",
    "\n",
    "with open(input_file, 'r') as infile, open(output_file, 'w') as outfile:\n",
    "    for line in infile:\n",
    "        values = line.split()  # Split the line into x, y, z\n",
    "        if len(values) == 3:  # Ensure there are exactly three values\n",
    "            x, y, z = map(float, values)  # Convert values to floats\n",
    "            if z != 0.0:  # Check if z is not 0\n",
    "                outfile.write(line)  # Write the line to the output file\n",
    "\n",
    "print(\"Processing complete.\")"
   ]
  },
  {
   "cell_type": "code",
   "execution_count": 12,
   "id": "f8cacfa2",
   "metadata": {},
   "outputs": [
    {
     "name": "stdout",
     "output_type": "stream",
     "text": [
      "Processing complete.\n"
     ]
    }
   ],
   "source": [
    "#downsampling\n",
    "import numpy as np\n",
    "\n",
    "input_file = r'C:\\Users\\USKD712889\\OneDrive - WSP O365\\Documents\\Projects\\Monroe County\\Duck Key\\Delft3D\\NAD832007ft\\nad832007ft\\Flow\\Bathy\\nozeros_Bathy.xyz'\n",
    "output_file = r'C:\\Users\\USKD712889\\OneDrive - WSP O365\\Documents\\Projects\\Monroe County\\Duck Key\\Delft3D\\NAD832007ft\\nad832007ft\\Flow\\Bathy\\reduced_Bathy_Rev0.xyz'\n",
    "\n",
    "downsample_ratio = 700\n",
    "precision = 4\n",
    "buffer_size = 1000\n",
    "\n",
    "buffer = []\n",
    "\n",
    "with open(input_file, 'r') as infile, open(output_file, 'w') as outfile:\n",
    "    for idx, line in enumerate(infile):\n",
    "        if idx % downsample_ratio == 0:  # Downsample\n",
    "            data = np.array(line.split(), dtype=float)\n",
    "            data = np.round(data, precision)  # Reduce precision\n",
    "            buffer.append(f'{data[0]:.{precision}f} {data[1]:.{precision}f} {data[2]:.{precision}f}\\n')\n",
    "\n",
    "        # Write buffer to file when it reaches buffer_size\n",
    "        if len(buffer) >= buffer_size:\n",
    "            outfile.writelines(buffer)\n",
    "            buffer = []  # Clear the buffer\n",
    "\n",
    "    # Write any remaining lines in the buffer\n",
    "    if buffer:\n",
    "        outfile.writelines(buffer)\n",
    "\n",
    "print(\"Processing complete.\")"
   ]
  },
  {
   "cell_type": "code",
   "execution_count": 1,
   "id": "63cbabb9",
   "metadata": {},
   "outputs": [
    {
     "name": "stdout",
     "output_type": "stream",
     "text": [
      "All z-values in C:\\Users\\USKD712889\\OneDrive - WSP O365\\Documents\\Projects\\Monroe County\\Duck Key\\Delft3D\\NAD832007ft\\nad832007ft\\Flow\\Bathy\\reduced_bathy.xyz have been multiplied by -1 and saved to C:\\Users\\USKD712889\\OneDrive - WSP O365\\Documents\\Projects\\Monroe County\\Duck Key\\Delft3D\\NAD832007ft\\nad832007ft\\Flow\\Bathy\\reduced_bathy_z_modified.xyz.\n"
     ]
    }
   ],
   "source": [
    "#reverses z values. Delft3D FM requires negative z values. Wave requires positive z values for depth. \n",
    "import os\n",
    "\n",
    "# Function to process a line in the .xyz file\n",
    "def process_line(line):\n",
    "    parts = line.split()\n",
    "    # If the line contains exactly 3 parts (x, y, z), modify the z-coordinate\n",
    "    if len(parts) == 3:\n",
    "        parts[2] = str(float(parts[2]) * -1)  # Multiply the z-coordinate by -1\n",
    "    return \" \".join(parts)\n",
    "\n",
    "# Function to read the input .xyz file, process it, and save to a new file in the same folder\n",
    "def multiply_z_by_negative_one(input_file):\n",
    "    # Get the directory of the input file\n",
    "    input_dir = os.path.dirname(input_file)\n",
    "    \n",
    "    # Get the file name without the extension and append '_z_modified' to it\n",
    "    input_filename = os.path.splitext(os.path.basename(input_file))[0]\n",
    "    output_file = os.path.join(input_dir, f\"{input_filename}_z_modified.xyz\")\n",
    "    \n",
    "    with open(input_file, 'r') as infile, open(output_file, 'w') as outfile:\n",
    "        for line in infile:\n",
    "            outfile.write(process_line(line) + '\\n')\n",
    "    \n",
    "    print(f\"All z-values in {input_file} have been multiplied by -1 and saved to {output_file}.\")\n",
    "\n",
    "# Example usage\n",
    "input_file = r'C:\\Users\\USKD712889\\OneDrive - WSP O365\\Documents\\Projects\\Monroe County\\Duck Key\\Delft3D\\NAD832007ft\\nad832007ft\\Flow\\Bathy\\reduced_bathy.xyz'  # Replace with your input .xyz file\n",
    "multiply_z_by_negative_one(input_file)\n"
   ]
  },
  {
   "cell_type": "code",
   "execution_count": 1,
   "id": "b7812443",
   "metadata": {},
   "outputs": [
    {
     "ename": "FileNotFoundError",
     "evalue": "[Errno 2] No such file or directory: 'C:\\\\\\\\Users\\\\\\\\USKD712889\\\\\\\\OneDrive - WSP O365\\\\\\\\Documents\\\\\\\\Projects\\\\\\\\Monroe County\\\\\\\\Duck Key\\\\\\\\Delft3D\\\\\\\\NAD832007ft\\\\\\\\nad832007ft\\\\\\\\reduced_Bathy.xyz'",
     "output_type": "error",
     "traceback": [
      "\u001b[1;31m---------------------------------------------------------------------------\u001b[0m",
      "\u001b[1;31mFileNotFoundError\u001b[0m                         Traceback (most recent call last)",
      "\u001b[1;32m~\\AppData\\Local\\Temp\\ipykernel_36224\\3670777746.py\u001b[0m in \u001b[0;36m<cell line: 0>\u001b[1;34m()\u001b[0m\n\u001b[0;32m     26\u001b[0m \u001b[1;31m# Example usage\u001b[0m\u001b[1;33m\u001b[0m\u001b[1;33m\u001b[0m\u001b[0m\n\u001b[0;32m     27\u001b[0m \u001b[0minput_file\u001b[0m \u001b[1;33m=\u001b[0m \u001b[1;34mr'C:\\\\Users\\\\USKD712889\\\\OneDrive - WSP O365\\\\Documents\\\\Projects\\\\Monroe County\\\\Duck Key\\\\Delft3D\\\\NAD832007ft\\\\nad832007ft\\\\reduced_Bathy.xyz'\u001b[0m  \u001b[1;31m# Replace with your input .xyz file\u001b[0m\u001b[1;33m\u001b[0m\u001b[1;33m\u001b[0m\u001b[0m\n\u001b[1;32m---> 28\u001b[1;33m \u001b[0mfeet_to_meters\u001b[0m\u001b[1;33m(\u001b[0m\u001b[0minput_file\u001b[0m\u001b[1;33m)\u001b[0m\u001b[1;33m\u001b[0m\u001b[1;33m\u001b[0m\u001b[0m\n\u001b[0m",
      "\u001b[1;32m~\\AppData\\Local\\Temp\\ipykernel_36224\\3670777746.py\u001b[0m in \u001b[0;36mfeet_to_meters\u001b[1;34m(input_file)\u001b[0m\n\u001b[0;32m     18\u001b[0m     \u001b[0moutput_file\u001b[0m \u001b[1;33m=\u001b[0m \u001b[0mos\u001b[0m\u001b[1;33m.\u001b[0m\u001b[0mpath\u001b[0m\u001b[1;33m.\u001b[0m\u001b[0mjoin\u001b[0m\u001b[1;33m(\u001b[0m\u001b[0minput_dir\u001b[0m\u001b[1;33m,\u001b[0m \u001b[1;34mf\"{input_filename}_meters.xyz\"\u001b[0m\u001b[1;33m)\u001b[0m\u001b[1;33m\u001b[0m\u001b[1;33m\u001b[0m\u001b[0m\n\u001b[0;32m     19\u001b[0m \u001b[1;33m\u001b[0m\u001b[0m\n\u001b[1;32m---> 20\u001b[1;33m     \u001b[1;32mwith\u001b[0m \u001b[0mopen\u001b[0m\u001b[1;33m(\u001b[0m\u001b[0minput_file\u001b[0m\u001b[1;33m,\u001b[0m \u001b[1;34m'r'\u001b[0m\u001b[1;33m)\u001b[0m \u001b[1;32mas\u001b[0m \u001b[0minfile\u001b[0m\u001b[1;33m,\u001b[0m \u001b[0mopen\u001b[0m\u001b[1;33m(\u001b[0m\u001b[0moutput_file\u001b[0m\u001b[1;33m,\u001b[0m \u001b[1;34m'w'\u001b[0m\u001b[1;33m)\u001b[0m \u001b[1;32mas\u001b[0m \u001b[0moutfile\u001b[0m\u001b[1;33m:\u001b[0m\u001b[1;33m\u001b[0m\u001b[1;33m\u001b[0m\u001b[0m\n\u001b[0m\u001b[0;32m     21\u001b[0m         \u001b[1;32mfor\u001b[0m \u001b[0mline\u001b[0m \u001b[1;32min\u001b[0m \u001b[0minfile\u001b[0m\u001b[1;33m:\u001b[0m\u001b[1;33m\u001b[0m\u001b[1;33m\u001b[0m\u001b[0m\n\u001b[0;32m     22\u001b[0m             \u001b[0moutfile\u001b[0m\u001b[1;33m.\u001b[0m\u001b[0mwrite\u001b[0m\u001b[1;33m(\u001b[0m\u001b[0mprocess_line\u001b[0m\u001b[1;33m(\u001b[0m\u001b[0mline\u001b[0m\u001b[1;33m)\u001b[0m \u001b[1;33m+\u001b[0m \u001b[1;34m'\\n'\u001b[0m\u001b[1;33m)\u001b[0m\u001b[1;33m\u001b[0m\u001b[1;33m\u001b[0m\u001b[0m\n",
      "\u001b[1;31mFileNotFoundError\u001b[0m: [Errno 2] No such file or directory: 'C:\\\\\\\\Users\\\\\\\\USKD712889\\\\\\\\OneDrive - WSP O365\\\\\\\\Documents\\\\\\\\Projects\\\\\\\\Monroe County\\\\\\\\Duck Key\\\\\\\\Delft3D\\\\\\\\NAD832007ft\\\\\\\\nad832007ft\\\\\\\\reduced_Bathy.xyz'"
     ]
    }
   ],
   "source": [
    "#ft to meters\n",
    "import os\n",
    "# Function to process a line in the .xyz file\n",
    "def process_line(line):\n",
    "    parts = line.split()\n",
    "    # If the line contains exactly 3 parts (x, y, z), modify the z-coordinate\n",
    "    if len(parts) == 3:\n",
    "        parts[2] = str(float(parts[2]) * 3.28084)  # Multiply the z-coordinate by 3.28084 \n",
    "    return \" \".join(parts)\n",
    "\n",
    "# Function to read the input .xyz file, process it, and save to a new file in the same folder\n",
    "def feet_to_meters(input_file):\n",
    "    # Get the directory of the input file\n",
    "    input_dir = os.path.dirname(input_file)\n",
    "    \n",
    "    # Get the file name without the extension and append '_meters' to it\n",
    "    input_filename = os.path.splitext(os.path.basename(input_file))[0]\n",
    "    output_file = os.path.join(input_dir, f\"{input_filename}_meters.xyz\")\n",
    "    \n",
    "    with open(input_file, 'r') as infile, open(output_file, 'w') as outfile:\n",
    "        for line in infile:\n",
    "            outfile.write(process_line(line) + '\\n')\n",
    "    \n",
    "    print(f\"All z-values in {input_file} have been turned to meters and saved to {output_file}.\")\n",
    "\n",
    "# Example usage\n",
    "input_file = r'C:\\\\Users\\\\USKD712889\\\\OneDrive - WSP O365\\\\Documents\\\\Projects\\\\Monroe County\\\\Duck Key\\\\Delft3D\\\\NAD832007ft\\\\nad832007ft\\\\reduced_Bathy.xyz'  # Replace with your input .xyz file\n",
    "feet_to_meters(input_file)"
   ]
  }
 ],
 "metadata": {
  "kernelspec": {
   "display_name": "Python 3 (ipykernel)",
   "language": "python",
   "name": "python3"
  },
  "language_info": {
   "codemirror_mode": {
    "name": "ipython",
    "version": 3
   },
   "file_extension": ".py",
   "mimetype": "text/x-python",
   "name": "python",
   "nbconvert_exporter": "python",
   "pygments_lexer": "ipython3",
   "version": "3.11.7"
  }
 },
 "nbformat": 4,
 "nbformat_minor": 5
}
