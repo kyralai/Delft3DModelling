{
 "cells": [
  {
   "cell_type": "code",
   "execution_count": 1,
   "id": "d8ef0a9f",
   "metadata": {},
   "outputs": [
    {
     "name": "stdout",
     "output_type": "stream",
     "text": [
      "Updated CSV saved with columns removed at: C:\\Users\\USKD712889\\OneDrive - WSP O365\\Documents\\Projects\\Monroe County\\Duck Key\\Delft3D\\WaveData\\Long Key\\W\\CSV\\waveswind.csv\n"
     ]
    }
   ],
   "source": [
    "import pandas as pd\n",
    "import numpy as np\n",
    "import os\n",
    "\n",
    "# File paths for the input files\n",
    "source_file = r'C:\\Users\\USKD712889\\OneDrive - WSP O365\\Documents\\Projects\\Monroe County\\Duck Key\\Delft3D\\WaveData\\Long Key\\W\\CSV\\wind.csv'  # Make sure to use the file path as a string\n",
    "target_file = r'C:\\Users\\USKD712889\\OneDrive - WSP O365\\Documents\\Projects\\Monroe County\\Duck Key\\Delft3D\\WaveData\\Long Key\\W\\CSV\\wave.csv'  # This is the file path, not the DataFrame\n",
    "\n",
    "# Read the CSV files\n",
    "source_csv = pd.read_csv(source_file)  # File with the columns to add\n",
    "target_csv = pd.read_csv(target_file)  # File to add columns to\n",
    "\n",
    "# Select specific columns from the source CSV (modify the column names as needed)\n",
    "columns_to_add = source_csv[['u10', 'v10']]  # Replace with actual column names\n",
    "\n",
    "# Add the selected columns to the target CSV\n",
    "combined_csv = pd.concat([target_csv, columns_to_add], axis=1)\n",
    "\n",
    "# Remove specific columns (replace 'column_to_remove' with the actual column names)\n",
    "columns_to_remove = ['number','expver']  # Replace with the names of columns to drop\n",
    "updated_csv = combined_csv.drop(columns=columns_to_remove)\n",
    "\n",
    "#rename columns\n",
    "updated_csv = updated_csv.rename(columns={\n",
    "    'mwd': 'waved',\n",
    "    'swh': 'hsig'  # Add more pairs if needed\n",
    "})\n",
    "\n",
    "# Assuming 'u10' and 'v10' are the column names in your CSV\n",
    "# Calculate wind direction for each row\n",
    "updated_csv['windd'] = (np.arctan2(-updated_csv['u10'], -updated_csv['v10']) * (180 / np.pi)) % 360\n",
    "\n",
    "# Calculate wind speed for each row\n",
    "updated_csv['windsp'] = np.sqrt(updated_csv['u10']**2 + updated_csv['v10']**2)\n",
    "\n",
    "# Drop the U and V component columns\n",
    "updated_csv = updated_csv.drop(columns=['u10', 'v10'])\n",
    "\n",
    "# Get the folder path of the input files (this should be the file path, not the DataFrame)\n",
    "output_folder = os.path.dirname(target_file)\n",
    "\n",
    "# Define the output file path in the same folder\n",
    "output_file = os.path.join(output_folder, 'waveswind.csv')\n",
    "\n",
    "# Save the updated CSV to the same folder as the input files\n",
    "updated_csv.to_csv(output_file, index=False)\n",
    "\n",
    "print(f\"Updated CSV saved with columns removed at: {output_file}\")"
   ]
  },
  {
   "cell_type": "code",
   "execution_count": null,
   "id": "26e418a7",
   "metadata": {},
   "outputs": [],
   "source": []
  }
 ],
 "metadata": {
  "kernelspec": {
   "display_name": "Python 3 (ipykernel)",
   "language": "python",
   "name": "python3"
  },
  "language_info": {
   "codemirror_mode": {
    "name": "ipython",
    "version": 3
   },
   "file_extension": ".py",
   "mimetype": "text/x-python",
   "name": "python",
   "nbconvert_exporter": "python",
   "pygments_lexer": "ipython3",
   "version": "3.11.7"
  }
 },
 "nbformat": 4,
 "nbformat_minor": 5
}
