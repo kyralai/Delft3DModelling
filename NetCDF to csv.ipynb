{
 "cells": [
  {
   "cell_type": "code",
   "execution_count": 1,
   "id": "44ba56b2",
   "metadata": {},
   "outputs": [
    {
     "name": "stdout",
     "output_type": "stream",
     "text": [
      "Data saved to C:\\Users\\USKD712889\\OneDrive - WSP O365\\Documents\\Projects\\Monroe County\\Duck Key\\Delft3D\\WaveData\\Long Key\\NE_20032004\\output_file.csv\n"
     ]
    }
   ],
   "source": [
    "import xarray as xr\n",
    "import pandas as pd\n",
    "import os\n",
    "# Open the .nc file\n",
    "nc_file = r'C:\\Users\\USKD712889\\OneDrive - WSP O365\\Documents\\Projects\\Monroe County\\Duck Key\\Delft3D\\WaveData\\Long Key\\N\\data_stream-wave.nc\\data_N_2003'  # Replace with your actual file path\n",
    "ds = xr.open_dataset(nc_file)\n",
    "# Convert the dataset to a pandas DataFrame\n",
    "df = ds.to_dataframe()\n",
    "# Reset the index if necessary (optional)\n",
    "df.reset_index(inplace=True)\n",
    "# Extract the directory from the .nc file path\n",
    "directory = os.path.dirname(nc_file)\n",
    "# Create the CSV file path in the same directory as the input file\n",
    "csv_file = os.path.join(directory, '2003.csv')  # Replace 'output_file.csv' with your desired output filename\n",
    "# Save the DataFrame to a CSV file\n",
    "df.to_csv(csv_file, index=False)\n",
    "print(f\"Data saved to {csv_file}\")"
   ]
  },
  {
   "cell_type": "code",
   "execution_count": 1,
   "id": "db61712c-4c96-4209-b5a9-d8ca95b2c85d",
   "metadata": {},
   "outputs": [
    {
     "name": "stdout",
     "output_type": "stream",
     "text": [
      "File not found: C:\\Users\\USKD712889\\OneDrive - WSP O365\\Documents\\Projects\\Monroe County\\Duck Key\\Delft3D\\WaveData\\Long Key\\W\\2003\\data_stream-wave_stepType-instant.nc\n",
      "File not found: C:\\Users\\USKD712889\\OneDrive - WSP O365\\Documents\\Projects\\Monroe County\\Duck Key\\Delft3D\\WaveData\\Long Key\\W\\2004\\data_stream-wave_stepType-instant.nc\n",
      "File not found: C:\\Users\\USKD712889\\OneDrive - WSP O365\\Documents\\Projects\\Monroe County\\Duck Key\\Delft3D\\WaveData\\Long Key\\W\\2005\\data_stream-wave_stepType-instant.nc\n",
      "File not found: C:\\Users\\USKD712889\\OneDrive - WSP O365\\Documents\\Projects\\Monroe County\\Duck Key\\Delft3D\\WaveData\\Long Key\\W\\2006\\data_stream-wave_stepType-instant.nc\n",
      "File not found: C:\\Users\\USKD712889\\OneDrive - WSP O365\\Documents\\Projects\\Monroe County\\Duck Key\\Delft3D\\WaveData\\Long Key\\W\\2007\\data_stream-wave_stepType-instant.nc\n",
      "File not found: C:\\Users\\USKD712889\\OneDrive - WSP O365\\Documents\\Projects\\Monroe County\\Duck Key\\Delft3D\\WaveData\\Long Key\\W\\2008\\data_stream-wave_stepType-instant.nc\n",
      "File not found: C:\\Users\\USKD712889\\OneDrive - WSP O365\\Documents\\Projects\\Monroe County\\Duck Key\\Delft3D\\WaveData\\Long Key\\W\\2009\\data_stream-wave_stepType-instant.nc\n",
      "File not found: C:\\Users\\USKD712889\\OneDrive - WSP O365\\Documents\\Projects\\Monroe County\\Duck Key\\Delft3D\\WaveData\\Long Key\\W\\2010\\data_stream-wave_stepType-instant.nc\n",
      "File not found: C:\\Users\\USKD712889\\OneDrive - WSP O365\\Documents\\Projects\\Monroe County\\Duck Key\\Delft3D\\WaveData\\Long Key\\W\\2011\\data_stream-wave_stepType-instant.nc\n",
      "File not found: C:\\Users\\USKD712889\\OneDrive - WSP O365\\Documents\\Projects\\Monroe County\\Duck Key\\Delft3D\\WaveData\\Long Key\\W\\2012\\data_stream-wave_stepType-instant.nc\n",
      "File not found: C:\\Users\\USKD712889\\OneDrive - WSP O365\\Documents\\Projects\\Monroe County\\Duck Key\\Delft3D\\WaveData\\Long Key\\W\\2013\\data_stream-wave_stepType-instant.nc\n",
      "File not found: C:\\Users\\USKD712889\\OneDrive - WSP O365\\Documents\\Projects\\Monroe County\\Duck Key\\Delft3D\\WaveData\\Long Key\\W\\2014\\data_stream-wave_stepType-instant.nc\n",
      "File not found: C:\\Users\\USKD712889\\OneDrive - WSP O365\\Documents\\Projects\\Monroe County\\Duck Key\\Delft3D\\WaveData\\Long Key\\W\\2015\\data_stream-wave_stepType-instant.nc\n",
      "File not found: C:\\Users\\USKD712889\\OneDrive - WSP O365\\Documents\\Projects\\Monroe County\\Duck Key\\Delft3D\\WaveData\\Long Key\\W\\2016\\data_stream-wave_stepType-instant.nc\n",
      "File not found: C:\\Users\\USKD712889\\OneDrive - WSP O365\\Documents\\Projects\\Monroe County\\Duck Key\\Delft3D\\WaveData\\Long Key\\W\\2017\\data_stream-wave_stepType-instant.nc\n",
      "File not found: C:\\Users\\USKD712889\\OneDrive - WSP O365\\Documents\\Projects\\Monroe County\\Duck Key\\Delft3D\\WaveData\\Long Key\\W\\2018\\data_stream-wave_stepType-instant.nc\n",
      "File not found: C:\\Users\\USKD712889\\OneDrive - WSP O365\\Documents\\Projects\\Monroe County\\Duck Key\\Delft3D\\WaveData\\Long Key\\W\\2019\\data_stream-wave_stepType-instant.nc\n",
      "File not found: C:\\Users\\USKD712889\\OneDrive - WSP O365\\Documents\\Projects\\Monroe County\\Duck Key\\Delft3D\\WaveData\\Long Key\\W\\2020\\data_stream-wave_stepType-instant.nc\n",
      "File not found: C:\\Users\\USKD712889\\OneDrive - WSP O365\\Documents\\Projects\\Monroe County\\Duck Key\\Delft3D\\WaveData\\Long Key\\W\\2021\\data_stream-wave_stepType-instant.nc\n",
      "File not found: C:\\Users\\USKD712889\\OneDrive - WSP O365\\Documents\\Projects\\Monroe County\\Duck Key\\Delft3D\\WaveData\\Long Key\\W\\2022\\data_stream-wave_stepType-instant.nc\n",
      "File not found: C:\\Users\\USKD712889\\OneDrive - WSP O365\\Documents\\Projects\\Monroe County\\Duck Key\\Delft3D\\WaveData\\Long Key\\W\\2023\\data_stream-wave_stepType-instant.nc\n",
      "File not found: C:\\Users\\USKD712889\\OneDrive - WSP O365\\Documents\\Projects\\Monroe County\\Duck Key\\Delft3D\\WaveData\\Long Key\\W\\2024\\data_stream-wave_stepType-instant.nc\n"
     ]
    }
   ],
   "source": [
    "#for folders named after each year\n",
    "import os\n",
    "import xarray as xr\n",
    "import pandas as pd\n",
    "\n",
    "# Define input and output directories\n",
    "input_base_dir = r'C:\\Users\\USKD712889\\OneDrive - WSP O365\\Documents\\Projects\\Monroe County\\Duck Key\\Delft3D\\WaveData\\Long Key\\W'  # Change this to your input folder path\n",
    "output_dir = r'C:\\Users\\USKD712889\\OneDrive - WSP O365\\Documents\\Projects\\Monroe County\\Duck Key\\Delft3D\\WaveData\\Long Key\\W\\CSV'\n",
    "# Ensure the output directory exists\n",
    "os.makedirs(output_dir, exist_ok=True)\n",
    "\n",
    "# Loop through each year\n",
    "for year in range(2003, 2025):\n",
    "    # Define the folder and file paths\n",
    "    input_folder = os.path.join(input_base_dir, str(year))\n",
    "    netcdf_file = os.path.join(input_folder, \"data_stream-wave_stepType-instant.nc\")\n",
    "    \n",
    "    # Check if the file exists\n",
    "    if os.path.isfile(netcdf_file):\n",
    "        # Open the NetCDF file\n",
    "        ds = xr.open_dataset(netcdf_file)\n",
    "        \n",
    "        # Convert the dataset to a Pandas DataFrame\n",
    "        df = ds.to_dataframe().reset_index()\n",
    "        \n",
    "        # Define the output CSV file path\n",
    "        csv_file = os.path.join(output_dir, f\"{year}_wave_data.csv\")\n",
    "        \n",
    "        # Save the DataFrame as a CSV file\n",
    "        df.to_csv(csv_file, index=False)\n",
    "        \n",
    "        print(f\"Saved {csv_file}\")\n",
    "    else:\n",
    "        print(f\"File not found: {netcdf_file}\")\n"
   ]
  },
  {
   "cell_type": "code",
   "execution_count": 7,
   "id": "605af651-a94e-4d44-b226-237686008dfd",
   "metadata": {
    "scrolled": true
   },
   "outputs": [
    {
     "name": "stdout",
     "output_type": "stream",
     "text": [
      "Saved C:\\Users\\USKD712889\\OneDrive - WSP O365\\Documents\\Projects\\Monroe County\\Duck Key\\Delft3D\\WaveData\\Long Key\\W\\CSV\\20032004_wind_data.csv\n",
      "Saved C:\\Users\\USKD712889\\OneDrive - WSP O365\\Documents\\Projects\\Monroe County\\Duck Key\\Delft3D\\WaveData\\Long Key\\W\\CSV\\20052006_wind_data.csv\n",
      "Saved C:\\Users\\USKD712889\\OneDrive - WSP O365\\Documents\\Projects\\Monroe County\\Duck Key\\Delft3D\\WaveData\\Long Key\\W\\CSV\\20072008_wind_data.csv\n",
      "Saved C:\\Users\\USKD712889\\OneDrive - WSP O365\\Documents\\Projects\\Monroe County\\Duck Key\\Delft3D\\WaveData\\Long Key\\W\\CSV\\20092010_wind_data.csv\n",
      "Saved C:\\Users\\USKD712889\\OneDrive - WSP O365\\Documents\\Projects\\Monroe County\\Duck Key\\Delft3D\\WaveData\\Long Key\\W\\CSV\\20112012_wind_data.csv\n",
      "Saved C:\\Users\\USKD712889\\OneDrive - WSP O365\\Documents\\Projects\\Monroe County\\Duck Key\\Delft3D\\WaveData\\Long Key\\W\\CSV\\20132014_wind_data.csv\n",
      "Saved C:\\Users\\USKD712889\\OneDrive - WSP O365\\Documents\\Projects\\Monroe County\\Duck Key\\Delft3D\\WaveData\\Long Key\\W\\CSV\\20152016_wind_data.csv\n",
      "Saved C:\\Users\\USKD712889\\OneDrive - WSP O365\\Documents\\Projects\\Monroe County\\Duck Key\\Delft3D\\WaveData\\Long Key\\W\\CSV\\20172018_wind_data.csv\n",
      "Saved C:\\Users\\USKD712889\\OneDrive - WSP O365\\Documents\\Projects\\Monroe County\\Duck Key\\Delft3D\\WaveData\\Long Key\\W\\CSV\\20192020_wind_data.csv\n",
      "Saved C:\\Users\\USKD712889\\OneDrive - WSP O365\\Documents\\Projects\\Monroe County\\Duck Key\\Delft3D\\WaveData\\Long Key\\W\\CSV\\20212022_wind_data.csv\n",
      "Saved C:\\Users\\USKD712889\\OneDrive - WSP O365\\Documents\\Projects\\Monroe County\\Duck Key\\Delft3D\\WaveData\\Long Key\\W\\CSV\\20232024_wind_data.csv\n",
      "No NetCDF file found in C:\\Users\\USKD712889\\OneDrive - WSP O365\\Documents\\Projects\\Monroe County\\Duck Key\\Delft3D\\WaveData\\Long Key\\W\\CSV\n"
     ]
    }
   ],
   "source": [
    "#For all folders within a directory \n",
    "import os\n",
    "import xarray as xr\n",
    "import pandas as pd\n",
    "\n",
    "# Define input and output directories\n",
    "input_base_dir = r'C:\\Users\\USKD712889\\OneDrive - WSP O365\\Documents\\Projects\\Monroe County\\Duck Key\\Delft3D\\WaveData\\Long Key\\W'  # Change this to your input folder path\n",
    "output_dir = r'C:\\Users\\USKD712889\\OneDrive - WSP O365\\Documents\\Projects\\Monroe County\\Duck Key\\Delft3D\\WaveData\\Long Key\\W\\CSV'\n",
    "#Ensure the output directory exists\n",
    "os.makedirs(output_dir, exist_ok=True)\n",
    "\n",
    "# Loop through all folders in the base directory\n",
    "for folder in os.listdir(input_base_dir):\n",
    "    folder_path = os.path.join(input_base_dir, folder)\n",
    "\n",
    "    # Check if it's a folder\n",
    "    if os.path.isdir(folder_path):\n",
    "        # Look for the NetCDF file in the folder\n",
    "        netcdf_file = os.path.join(folder_path, \"data_stream-oper_stepType-instant.nc\")\n",
    "        \n",
    "        if os.path.isfile(netcdf_file):\n",
    "            # Open the NetCDF file\n",
    "            try:\n",
    "                ds = xr.open_dataset(netcdf_file)\n",
    "                \n",
    "                # Convert the dataset to a Pandas DataFrame\n",
    "                df = ds.to_dataframe().reset_index()\n",
    "                \n",
    "                # Save the CSV file using the folder name as a reference\n",
    "                csv_file = os.path.join(output_dir, f\"{folder}_wind_data.csv\")\n",
    "                df.to_csv(csv_file, index=False)\n",
    "                \n",
    "                print(f\"Saved {csv_file}\")\n",
    "            except Exception as e:\n",
    "                print(f\"Error processing {netcdf_file}: {e}\")\n",
    "        else:\n",
    "            print(f\"No NetCDF file found in {folder_path}\")"
   ]
  },
  {
   "cell_type": "code",
   "execution_count": 9,
   "id": "5d1354a1",
   "metadata": {},
   "outputs": [
    {
     "name": "stdout",
     "output_type": "stream",
     "text": [
      "CSV files combined successfully! Output saved to C:\\Users\\USKD712889\\OneDrive - WSP O365\\Documents\\Projects\\Monroe County\\Duck Key\\Delft3D\\WaveData\\Long Key\\W\\CSV\\wind.csv\n"
     ]
    }
   ],
   "source": [
    "import os\n",
    "import pandas as pd\n",
    "\n",
    "# Define the directory containing the CSV files\n",
    "directory = r'C:\\Users\\USKD712889\\OneDrive - WSP O365\\Documents\\Projects\\Monroe County\\Duck Key\\Delft3D\\WaveData\\Long Key\\W\\CSV'\n",
    "\n",
    "# Initialize an empty list to hold DataFrames\n",
    "df_list = []\n",
    "\n",
    "# Iterate through all the files in the directory\n",
    "for filename in os.listdir(directory):\n",
    "    if filename.endswith('wind_data.csv'):\n",
    "        # Read each CSV file into a DataFrame\n",
    "        df = pd.read_csv(os.path.join(directory, filename))\n",
    "        # Append the DataFrame to the list\n",
    "        df_list.append(df)\n",
    "\n",
    "# Concatenate all DataFrames in the list into a single DataFrame\n",
    "combined_df = pd.concat(df_list, ignore_index=True)\n",
    "\n",
    "# Define the output file path in the same directory\n",
    "output_file = os.path.join(directory, 'wind.csv')\n",
    "\n",
    "# Save the combined DataFrame to a new CSV file in the same directory\n",
    "combined_df.to_csv(output_file, index=False)\n",
    "\n",
    "print(f\"CSV files combined successfully! Output saved to {output_file}\")"
   ]
  },
  {
   "cell_type": "code",
   "execution_count": null,
   "id": "84beb11a",
   "metadata": {},
   "outputs": [],
   "source": []
  }
 ],
 "metadata": {
  "kernelspec": {
   "display_name": "Python 3 (ipykernel)",
   "language": "python",
   "name": "python3"
  },
  "language_info": {
   "codemirror_mode": {
    "name": "ipython",
    "version": 3
   },
   "file_extension": ".py",
   "mimetype": "text/x-python",
   "name": "python",
   "nbconvert_exporter": "python",
   "pygments_lexer": "ipython3",
   "version": "3.11.7"
  }
 },
 "nbformat": 4,
 "nbformat_minor": 5
}
